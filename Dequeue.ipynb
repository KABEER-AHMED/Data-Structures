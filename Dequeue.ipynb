{
 "cells": [
  {
   "cell_type": "code",
   "execution_count": 3,
   "id": "ac543c88",
   "metadata": {},
   "outputs": [],
   "source": [
    "class Deque():\n",
    "    def __init__ (self):\n",
    "        self.deque = []\n",
    "    def addFront(self,item):\n",
    "        self.deque.insert(0,item)\n",
    "    def addRear(self,item):\n",
    "        self.deque.append(item)\n",
    "    def removeFront(self):\n",
    "        return self.deque.pop(0)\n",
    "    def removeRear(self):\n",
    "        return self.deque.pop()\n",
    "    def isEmpty(self):\n",
    "        return not bool(self.deque)\n",
    "    def Size(self):\n",
    "        return len(self.deque)\n",
    "    \n"
   ]
  },
  {
   "cell_type": "markdown",
   "id": "46d4fbb4",
   "metadata": {},
   "source": [
    "# This is a Palindrome checker, you have to input a word and this program will check whether it is a palindrome or not !\n"
   ]
  },
  {
   "cell_type": "code",
   "execution_count": null,
   "id": "f5dab84d",
   "metadata": {},
   "outputs": [],
   "source": []
  }
 ],
 "metadata": {
  "kernelspec": {
   "display_name": "Python 3",
   "language": "python",
   "name": "python3"
  },
  "language_info": {
   "codemirror_mode": {
    "name": "ipython",
    "version": 3
   },
   "file_extension": ".py",
   "mimetype": "text/x-python",
   "name": "python",
   "nbconvert_exporter": "python",
   "pygments_lexer": "ipython3",
   "version": "3.13.2"
  }
 },
 "nbformat": 4,
 "nbformat_minor": 5
}
