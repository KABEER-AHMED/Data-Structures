{
 "cells": [
  {
   "cell_type": "code",
   "execution_count": 6,
   "id": "94a2aa1e",
   "metadata": {},
   "outputs": [],
   "source": [
    "# Creating the node class\n",
    "class Node:\n",
    "    def __init__(self,data):\n",
    "        self._data = data\n",
    "        self._next = None\n",
    "    def get_data(self):\n",
    "        return self._datadata\n",
    "    def set_data(self,data):\n",
    "        self._data = data\n",
    "    \n",
    "    data = property(get_data,set_data)\n",
    "    \n",
    "    def get_next(self):\n",
    "        return self._next\n",
    "    def set_next(self,node_next):\n",
    "        self._next = node_next\n",
    "    \n",
    "    next = property(get_next,set_next)"
   ]
  },
  {
   "cell_type": "code",
   "execution_count": null,
   "id": "c173fca1",
   "metadata": {},
   "outputs": [],
   "source": []
  },
  {
   "cell_type": "code",
   "execution_count": null,
   "id": "c59a3a07",
   "metadata": {},
   "outputs": [],
   "source": []
  }
 ],
 "metadata": {
  "kernelspec": {
   "display_name": "Python 3",
   "language": "python",
   "name": "python3"
  },
  "language_info": {
   "codemirror_mode": {
    "name": "ipython",
    "version": 3
   },
   "file_extension": ".py",
   "mimetype": "text/x-python",
   "name": "python",
   "nbconvert_exporter": "python",
   "pygments_lexer": "ipython3",
   "version": "3.13.2"
  }
 },
 "nbformat": 4,
 "nbformat_minor": 5
}
