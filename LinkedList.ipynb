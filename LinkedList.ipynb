{
 "cells": [
  {
   "cell_type": "code",
   "execution_count": 16,
   "id": "94a2aa1e",
   "metadata": {},
   "outputs": [],
   "source": [
    "# Creating the node class\n",
    "class Node:\n",
    "    def __init__(self,data):\n",
    "        self._data = data\n",
    "        self._next = None\n",
    "    def get_data(self):\n",
    "        return self._data\n",
    "    def set_data(self,data):\n",
    "        self._data = data\n",
    "    \n",
    "    data = property(get_data,set_data)\n",
    "    \n",
    "    def get_next(self):\n",
    "        return self._next\n",
    "    def set_next(self,node_next):\n",
    "        self._next = node_next\n",
    "    \n",
    "    next = property(get_next,set_next)"
   ]
  },
  {
   "cell_type": "code",
   "execution_count": 28,
   "id": "c173fca1",
   "metadata": {},
   "outputs": [],
   "source": [
    "class LinkedList:\n",
    "    def __init__(self):\n",
    "        self.head = None\n",
    "    def add_node(self,item):\n",
    "        temp = Node(item)\n",
    "        temp.set_next(self.head)\n",
    "        self.head = temp\n",
    "    def print(self):\n",
    "        llstr =''\n",
    "        iterator = self.head\n",
    "        if iterator == None:\n",
    "            print(\"Linked list is empty\")\n",
    "            return None\n",
    "        while iterator!=None:\n",
    "            llstr += str(iterator.data) + \"-->\"\n",
    "            iterator = iterator.next\n",
    "        print(llstr)\n",
    "    \n",
    "    \n",
    "    def search(self,value):\n",
    "        itr = self.head\n",
    "        index = 0\n",
    "        while itr:\n",
    "            if itr.data == value:\n",
    "                return index\n",
    "            itr = itr.next\n",
    "            index+=1\n",
    "    \n",
    "    def remove(self,item):\n",
    "        count = 0\n",
    "        index = self.search(item)\n",
    "        if index is None:\n",
    "            print(\"The item was not found\")\n",
    "            return\n",
    "        if index == 0:  \n",
    "            self.head = self.head.next\n",
    "            return\n",
    "        itr = self.head\n",
    "        while itr:\n",
    "            if count == index-1:\n",
    "                itr.next = itr.next.next\n",
    "                break\n",
    "            itr = itr.next\n",
    "            count+=1\n",
    "\n",
    "    "
   ]
  },
  {
   "cell_type": "code",
   "execution_count": 29,
   "id": "c59a3a07",
   "metadata": {},
   "outputs": [
    {
     "name": "stdout",
     "output_type": "stream",
     "text": [
      "55-->50-->45-->\n",
      "66-->55-->50-->45-->\n",
      "66-->55-->45-->\n"
     ]
    }
   ],
   "source": [
    "ll = LinkedList()\n",
    "ll.add_node(45)\n",
    "ll.add_node(50)\n",
    "ll.add_node(55)\n",
    "ll.print()\n",
    "ll.add_node(66)\n",
    "ll.print()\n",
    "ll.remove(50)\n",
    "ll.print()"
   ]
  },
  {
   "cell_type": "code",
   "execution_count": null,
   "id": "95f73bf2",
   "metadata": {},
   "outputs": [],
   "source": []
  }
 ],
 "metadata": {
  "kernelspec": {
   "display_name": "Python 3",
   "language": "python",
   "name": "python3"
  },
  "language_info": {
   "codemirror_mode": {
    "name": "ipython",
    "version": 3
   },
   "file_extension": ".py",
   "mimetype": "text/x-python",
   "name": "python",
   "nbconvert_exporter": "python",
   "pygments_lexer": "ipython3",
   "version": "3.13.2"
  }
 },
 "nbformat": 4,
 "nbformat_minor": 5
}
