{
 "cells": [
  {
   "cell_type": "code",
   "execution_count": 11,
   "id": "941ddd26",
   "metadata": {},
   "outputs": [
    {
     "name": "stdout",
     "output_type": "stream",
     "text": [
      "selam aleykum dunya 😭\n"
     ]
    }
   ],
   "source": [
    "print(\"selam aleykum dunya 😭\")"
   ]
  },
  {
   "cell_type": "code",
   "execution_count": 12,
   "id": "d17963af",
   "metadata": {},
   "outputs": [
    {
     "name": "stdout",
     "output_type": "stream",
     "text": [
      "3\n"
     ]
    }
   ],
   "source": [
    "# creating a card class\n",
    "import random\n",
    "suits = ('Hearts', 'Diamonds', 'Spades', 'Clubs')\n",
    "ranks = ('Two', 'Three', 'Four', 'Five', 'Six', 'Seven', 'Eight', 'Nine', 'Ten', 'Jack', 'Queen', 'King', 'Ace')\n",
    "values = {'Two':2, 'Three':3, 'Four':4, 'Five':5, 'Six':6, 'Seven':7, 'Eight':8, \n",
    "            'Nine':9, 'Ten':10, 'Jack':11, 'Queen':12, 'King':13, 'Ace':14}\n",
    "\n",
    "class Card:\n",
    "    def __init__(self,suit,rank):\n",
    "        self.suit = suit\n",
    "        self.rank = rank\n",
    "        self.value = values[rank.capitalize()]\n",
    "    def __str__(self):\n",
    "        return (self.suit + \" of \"+ self.rank)\n",
    "    \n",
    "    print(values['Three'])"
   ]
  },
  {
   "cell_type": "code",
   "execution_count": 13,
   "id": "58527fec",
   "metadata": {},
   "outputs": [],
   "source": [
    "## deck class\n",
    "class Deck:\n",
    "    def __init__(self):\n",
    "        self.all_cards = []\n",
    "        for suit in suits:\n",
    "            for rank in ranks:\n",
    "                created_card = Card(suit,rank)\n",
    "                self.all_cards.append(created_card)\n",
    "\n",
    "    def shuffle(self):\n",
    "        random.shuffle(self.all_cards)\n",
    "    def deal_card(self):\n",
    "        return self.all_cards.pop()\n",
    "    "
   ]
  },
  {
   "cell_type": "code",
   "execution_count": 14,
   "id": "c7a37350",
   "metadata": {},
   "outputs": [],
   "source": [
    "## creating the player class now\n",
    "class Player:\n",
    "    def __init__(self,name):\n",
    "        self.name = name\n",
    "        self.all_cards=0\n",
    "    def add_Cards(self,new_cards):\n",
    "        if type(new_cards) == type([]):\n",
    "            self.all_cards.extend(new_cards)\n",
    "        else:\n",
    "            self.all_cards.append(new_cards)\n",
    "    def remove_Cards(self):\n",
    "        self.all_cards.pop(0)\n",
    "    def __str__(self):\n",
    "        return (f\"Player {self.name} has {len(self.all_cards)} cards\")\n",
    "    "
   ]
  },
  {
   "cell_type": "code",
   "execution_count": 18,
   "id": "84c0df8e",
   "metadata": {},
   "outputs": [
    {
     "name": "stdout",
     "output_type": "stream",
     "text": [
      "<bound method Deck.deal_card of <__main__.Deck object at 0x0000029BDA30AFD0>>\n"
     ]
    }
   ],
   "source": [
    "new_deck = Deck()\n",
    "new_card = new_deck.deal_card\n",
    "print(new_card)"
   ]
  },
  {
   "cell_type": "code",
   "execution_count": null,
   "id": "690f3d08",
   "metadata": {},
   "outputs": [],
   "source": []
  }
 ],
 "metadata": {
  "kernelspec": {
   "display_name": "Python 3",
   "language": "python",
   "name": "python3"
  },
  "language_info": {
   "codemirror_mode": {
    "name": "ipython",
    "version": 3
   },
   "file_extension": ".py",
   "mimetype": "text/x-python",
   "name": "python",
   "nbconvert_exporter": "python",
   "pygments_lexer": "ipython3",
   "version": "3.13.2"
  }
 },
 "nbformat": 4,
 "nbformat_minor": 5
}
