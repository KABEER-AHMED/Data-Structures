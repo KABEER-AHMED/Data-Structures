{
 "cells": [
  {
   "cell_type": "markdown",
   "id": "8441b323",
   "metadata": {},
   "source": [
    "# Recursion is basically a function calling itself, must require a base case and an iterative case"
   ]
  },
  {
   "cell_type": "code",
   "execution_count": 15,
   "id": "69b51840",
   "metadata": {},
   "outputs": [
    {
     "name": "stdout",
     "output_type": "stream",
     "text": [
      "10\n"
     ]
    }
   ],
   "source": [
    "def to_str(n,base):\n",
    "    stack = []\n",
    "    convert_String = \"0123456789ABCDEF\"\n",
    "    while n>0 :\n",
    "        if n<base:\n",
    "            stack.append(convert_String[n])\n",
    "        else:\n",
    "            stack.append(convert_String[n%base])\n",
    "        n=n//base\n",
    "    res = \"\"\n",
    "    while stack:\n",
    "        res += str(stack.pop())\n",
    "    return res\n",
    "print(to_str(16,16))"
   ]
  },
  {
   "cell_type": "code",
   "execution_count": null,
   "id": "1d44e1c8",
   "metadata": {},
   "outputs": [],
   "source": []
  }
 ],
 "metadata": {
  "kernelspec": {
   "display_name": "Python 3",
   "language": "python",
   "name": "python3"
  },
  "language_info": {
   "codemirror_mode": {
    "name": "ipython",
    "version": 3
   },
   "file_extension": ".py",
   "mimetype": "text/x-python",
   "name": "python",
   "nbconvert_exporter": "python",
   "pygments_lexer": "ipython3",
   "version": "3.13.2"
  }
 },
 "nbformat": 4,
 "nbformat_minor": 5
}
